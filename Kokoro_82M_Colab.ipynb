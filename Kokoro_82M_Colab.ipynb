{
  "nbformat": 4,
  "nbformat_minor": 0,
  "metadata": {
    "colab": {
      "provenance": [],
      "gpuType": "T4"
    },
    "kernelspec": {
      "name": "python3",
      "display_name": "Python 3"
    },
    "language_info": {
      "name": "python"
    },
    "accelerator": "GPU"
  },
  "cells": [
    {
      "cell_type": "code",
      "source": [
        "%cd /content/\n",
        "!git clone https://github.com/NeuralFalconYT/Kokoro-82M-WebUI.git\n",
        "!apt-get -qq -y install espeak-ng > /dev/null 2>&1\n",
        "%cd /content/Kokoro-82M-WebUI\n",
        "!python download_model.py\n",
        "!pip install -r requirements.txt\n",
        "from IPython.display import clear_output\n",
        "clear_output()"
      ],
      "metadata": {
        "id": "stDJD3G4KJwP"
      },
      "execution_count": null,
      "outputs": []
    },
    {
      "cell_type": "code",
      "source": [
        "%cd /content/Kokoro-82M-WebUI\n",
        "!python app.py --share\n",
        "# !python srt_dubbing.py --share"
      ],
      "metadata": {
        "id": "XSQ2ShKtC1u9"
      },
      "execution_count": null,
      "outputs": []
    }
  ]
}