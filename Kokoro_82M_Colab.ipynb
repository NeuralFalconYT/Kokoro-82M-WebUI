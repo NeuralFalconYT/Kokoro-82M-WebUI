{
  "nbformat": 4,
  "nbformat_minor": 0,
  "metadata": {
    "colab": {
      "provenance": []
    },
    "kernelspec": {
      "name": "python3",
      "display_name": "Python 3"
    },
    "language_info": {
      "name": "python"
    }
  },
  "cells": [
    {
      "cell_type": "code",
      "source": [
        "%cd /content/\n",
        "!git clone https://github.com/NeuralFalconYT/kokoro-82M-gradio.git\n",
        "!apt-get -qq -y install espeak-ng > /dev/null 2>&1\n",
        "%cd /content/kokoro-82M-gradio\n",
        "!python download_model.py\n",
        "!pip install -r requirements.txt\n",
        "from IPython.display import clear_output\n",
        "clear_output()"
      ],
      "metadata": {
        "id": "stDJD3G4KJwP"
      },
      "execution_count": 2,
      "outputs": []
    },
    {
      "cell_type": "code",
      "source": [
        "%cd /content/kokoro-82M-gradio\n",
        "!python app.py --share"
      ],
      "metadata": {
        "id": "XSQ2ShKtC1u9"
      },
      "execution_count": null,
      "outputs": []
    }
  ]
}